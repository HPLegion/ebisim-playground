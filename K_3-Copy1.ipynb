{
 "cells": [
  {
   "cell_type": "code",
   "execution_count": 1,
   "metadata": {},
   "outputs": [],
   "source": [
    "import logging\n",
    "class FilterModule(logging.Filter):\n",
    "    def __init__(self, modulename=\"\"):\n",
    "        self.modulename = modulename\n",
    "    def filter(self, rec):\n",
    "        return not rec.name.startswith(self.modulename)\n",
    "\n",
    "logging.basicConfig(format='[%(asctime)s][%(levelname)s][%(name)s] %(message)s', level=logging.DEBUG)\n",
    "logger = logging.getLogger()\n",
    "logger.setLevel(logging.DEBUG)\n",
    "for handler in logger.handlers:\n",
    "    handler.addFilter(FilterModule(\"numba\"))\n",
    "    handler.addFilter(FilterModule(\"matplotlib\"))    "
   ]
  },
  {
   "cell_type": "code",
   "execution_count": 2,
   "metadata": {},
   "outputs": [
    {
     "name": "stderr",
     "output_type": "stream",
     "text": [
      "[2020-07-07 12:32:43,189][DEBUG][ebisim.xs] Defining _normpdf.\n",
      "[2020-07-07 12:32:43,191][DEBUG][ebisim.xs] Defining cxxs.\n",
      "[2020-07-07 12:32:43,195][DEBUG][ebisim.xs] Defining eixs_vec.\n",
      "[2020-07-07 12:32:43,197][DEBUG][ebisim.xs] Defining eixs_mat.\n",
      "[2020-07-07 12:32:43,199][DEBUG][ebisim.xs] Defining rrxs_vec.\n",
      "[2020-07-07 12:32:43,201][DEBUG][ebisim.xs] Defining rrxs_mat.\n",
      "[2020-07-07 12:32:43,202][DEBUG][ebisim.xs] Defining drxs_vec.\n",
      "[2020-07-07 12:32:43,204][DEBUG][ebisim.xs] Defining drxs_mat.\n",
      "[2020-07-07 12:32:43,205][DEBUG][ebisim.xs] Defining precompute_rr_quantities.\n",
      "[2020-07-07 12:32:43,207][DEBUG][ebisim.xs] Defining lookup_lotz_factors.\n",
      "[2020-07-07 12:32:43,208][DEBUG][ebisim.xs] Defining eixs_energyscan.\n",
      "[2020-07-07 12:32:43,209][DEBUG][ebisim.xs] Defining rrxs_energyscan.\n",
      "[2020-07-07 12:32:43,211][DEBUG][ebisim.xs] Defining _eirr_e_samp.\n",
      "[2020-07-07 12:32:43,212][DEBUG][ebisim.xs] Defining drxs_energyscan.\n",
      "[2020-07-07 12:32:43,569][DEBUG][ebisim.utils] Defining load_dr_data.\n",
      "[2020-07-07 12:32:43,570][DEBUG][ebisim.utils] Defining _parse_dr_file.\n",
      "[2020-07-07 12:32:43,570][DEBUG][ebisim.utils] Defining _nparray_from_jagged_list.\n",
      "[2020-07-07 12:32:43,571][DEBUG][ebisim.elements] Loading element data and shell configurations.\n",
      "[2020-07-07 12:32:43,571][DEBUG][ebisim.elements] Loading DR data.\n",
      "[2020-07-07 12:32:43,601][DEBUG][ebisim.elements] Defining element_z.\n",
      "[2020-07-07 12:32:43,603][DEBUG][ebisim.elements] Defining element_symbol.\n",
      "[2020-07-07 12:32:43,603][DEBUG][ebisim.elements] Defining element_name.\n",
      "[2020-07-07 12:32:43,604][DEBUG][ebisim.elements] Defining _ElementSpec.\n",
      "[2020-07-07 12:32:43,606][DEBUG][ebisim.elements] Defining Element.\n",
      "[2020-07-07 12:32:43,607][DEBUG][ebisim.elements] Patching Element docstrings.\n",
      "[2020-07-07 12:32:43,608][DEBUG][ebisim.elements] Defining get_element\n",
      "[2020-07-07 12:32:43,609][DEBUG][ebisim.simulation._radial_dist] Defining tridiagonal_matrix_algorithm.\n",
      "[2020-07-07 12:32:43,610][DEBUG][ebisim.simulation._radial_dist] Defining fd_system_uniform_grid.\n",
      "[2020-07-07 12:32:43,615][DEBUG][ebisim.simulation._radial_dist] Defining radial_potential_uniform_grid.\n",
      "[2020-07-07 12:32:43,616][DEBUG][ebisim.simulation._radial_dist] Defining fd_system_nonuniform_grid.\n",
      "[2020-07-07 12:32:43,618][DEBUG][ebisim.simulation._radial_dist] Defining radial_potential_nonuniform_grid.\n",
      "[2020-07-07 12:32:43,620][DEBUG][ebisim.simulation._radial_dist] Defining heat_capacity.\n",
      "[2020-07-07 12:32:43,622][DEBUG][ebisim.simulation._radial_dist] Defining boltzmann_radial_potential_onaxis_density.\n",
      "[2020-07-07 12:32:43,623][DEBUG][ebisim.simulation._radial_dist] Defining boltzmann_radial_potential_linear_density.\n",
      "[2020-07-07 12:32:43,624][DEBUG][ebisim.simulation._radial_dist] Defining boltzmann_radial_potential_linear_density_ebeam.\n",
      "[2020-07-07 12:32:43,626][DEBUG][ebisim.simulation._result] Defining Rate(IntEnum).\n",
      "[2020-07-07 12:32:43,627][DEBUG][ebisim.simulation._result] Defining Result.\n",
      "[2020-07-07 12:32:43,630][DEBUG][ebisim.plasma] Defining _erfc_appprox.\n",
      "[2020-07-07 12:32:43,632][DEBUG][ebisim.plasma] Defining electron_velocity.\n",
      "[2020-07-07 12:32:43,635][DEBUG][ebisim.plasma] Defining clog_ei.\n",
      "[2020-07-07 12:32:43,647][DEBUG][ebisim.plasma] Defining clog_ii.\n",
      "[2020-07-07 12:32:43,649][DEBUG][ebisim.plasma] Defining coulomb_xs.\n",
      "[2020-07-07 12:32:43,654][DEBUG][ebisim.plasma] Defining ion_coll_rate.\n",
      "[2020-07-07 12:32:43,655][DEBUG][ebisim.plasma] Defining spitzer_heating.\n",
      "[2020-07-07 12:32:43,658][DEBUG][ebisim.plasma] Defining collisional_thermalisation.\n",
      "[2020-07-07 12:32:43,660][DEBUG][ebisim.plasma] Defining trapping_strength_axial.\n",
      "[2020-07-07 12:32:43,662][DEBUG][ebisim.plasma] Defining trapping_strength_radial.\n",
      "[2020-07-07 12:32:43,664][DEBUG][ebisim.plasma] Defining collisional_escape_rate.\n",
      "[2020-07-07 12:32:43,666][DEBUG][ebisim.plasma] Defining roundtrip_escape.\n",
      "[2020-07-07 12:32:43,669][DEBUG][ebisim.simulation._advanced] Patching numba.types.EnumMember __hash__.\n",
      "[2020-07-07 12:32:43,670][DEBUG][ebisim.simulation._advanced] Defining Target.\n",
      "[2020-07-07 12:32:43,671][DEBUG][ebisim.simulation._advanced] Patching Target docstrings.\n",
      "[2020-07-07 12:32:43,671][DEBUG][ebisim.simulation._advanced] Defining BackgroundGas.\n",
      "[2020-07-07 12:32:43,672][DEBUG][ebisim.simulation._advanced] Patching BackgroundGas docstrings.\n",
      "[2020-07-07 12:32:43,673][DEBUG][ebisim.simulation._advanced] Defining Device.\n",
      "[2020-07-07 12:32:43,674][DEBUG][ebisim.simulation._advanced] Patching Device docstrings.\n",
      "[2020-07-07 12:32:43,675][DEBUG][ebisim.simulation._advanced] Defining ModelOptions.\n",
      "[2020-07-07 12:32:43,675][DEBUG][ebisim.simulation._advanced] Patching ModelOptions docstrings.\n",
      "[2020-07-07 12:32:43,676][DEBUG][ebisim.simulation._advanced] Defining numba types for AdvancedModel typing.\n",
      "[2020-07-07 12:32:43,677][DEBUG][ebisim.simulation._advanced] Defining numba types: _T_DEVICE.\n",
      "[2020-07-07 12:32:43,677][DEBUG][ebisim.simulation._advanced] Device.get(1, 8000, 0.0001, 0.8, 500, 2, 0.005, None, None, None, 100)\n",
      "[2020-07-07 12:32:43,678][DEBUG][ebisim.simulation._advanced] Device.get: Call fd_system_nonuniform_grid.\n",
      "[2020-07-07 12:32:43,792][DEBUG][ebisim.simulation._advanced] Device.get: Trap - Call boltzmann_radial_potential_linear_density_ebeam.\n",
      "[2020-07-07 12:32:43,868][DEBUG][ebisim.simulation._advanced] Device.get: Barrier - Call boltzmann_radial_potential_linear_density_ebeam.\n",
      "[2020-07-07 12:32:43,873][DEBUG][ebisim.simulation._advanced] Device.get: Create and return Device instance.\n",
      "[2020-07-07 12:32:43,874][DEBUG][ebisim.simulation._advanced] Defining numba types: _T_TARGET.\n",
      "[2020-07-07 12:32:43,887][DEBUG][ebisim.simulation._advanced] Defining numba types: _T_BG_GAS.\n",
      "[2020-07-07 12:32:43,888][DEBUG][ebisim.simulation._advanced] Defining numba types: _T_MODEL_OPTIONS.\n",
      "[2020-07-07 12:32:43,889][DEBUG][ebisim.simulation._advanced] Defining numba types: _T_TARGET_LIST.\n",
      "[2020-07-07 12:32:43,890][DEBUG][ebisim.simulation._advanced] Defining numba types: _T_BG_GAS_LIST.\n",
      "[2020-07-07 12:32:43,890][DEBUG][ebisim.simulation._advanced] Defining numba types: _T_F8_ARRAY.\n",
      "[2020-07-07 12:32:43,891][DEBUG][ebisim.simulation._advanced] Defining numba types: _T_I4_ARRAY.\n",
      "[2020-07-07 12:32:43,892][DEBUG][ebisim.simulation._advanced] Defining numba types: _T_RATE_ENUM.\n",
      "[2020-07-07 12:32:43,893][DEBUG][ebisim.simulation._advanced] Defining compile_adv_model.\n",
      "[2020-07-07 12:32:43,894][DEBUG][ebisim.simulation._advanced] Defining AdvancedModel.\n",
      "[2020-07-07 12:32:43,894][DEBUG][ebisim.simulation._advanced] Defining advanced_simulation.\n"
     ]
    },
    {
     "name": "stdout",
     "output_type": "stream",
     "text": [
      "Not set\n"
     ]
    }
   ],
   "source": [
    "# import logging\n",
    "# logging.basicConfig(format='%(asctime)s - %(name)s - %(levelname)s - %(message)s', level=logging.DEBUG)\n",
    "import os\n",
    "# os.environ[\"NUMBA_DISABLE_INTEL_SVML\"] = \"1\"\n",
    "\n",
    "# os.environ[\"NUMBA_OPT\"] = \"0\"\n",
    "\n",
    "import ebisim as eb\n",
    "import numpy as np\n",
    "from tqdm import tqdm\n",
    "import matplotlib.pyplot as plt\n",
    "\n",
    "plt.rcParams['figure.figsize'] = (8,6)\n",
    "plt.rcParams['figure.dpi'] = 100\n",
    "# eb.simulation._advanced.compile_adv_model()\n",
    "print(os.environ.get(\"NUMBA_DISABLE_INTEL_SVML\", \"Not set\"))"
   ]
  },
  {
   "cell_type": "code",
   "execution_count": 4,
   "metadata": {},
   "outputs": [
    {
     "name": "stderr",
     "output_type": "stream",
     "text": [
      "[2020-07-07 12:32:54,910][DEBUG][ebisim.simulation._advanced] Device.get(1, 8000, 0.0001, 0.8, 1300, 2, 0.005, None, None, None, 500)\n",
      "[2020-07-07 12:32:54,912][DEBUG][ebisim.simulation._advanced] Device.get: Call fd_system_nonuniform_grid.\n",
      "[2020-07-07 12:32:54,912][DEBUG][ebisim.simulation._advanced] Device.get: Trap - Call boltzmann_radial_potential_linear_density_ebeam.\n",
      "[2020-07-07 12:32:54,913][DEBUG][ebisim.simulation._advanced] Device.get: Barrier - Call boltzmann_radial_potential_linear_density_ebeam.\n",
      "[2020-07-07 12:32:54,914][DEBUG][ebisim.simulation._advanced] Device.get: Create and return Device instance.\n"
     ]
    },
    {
     "name": "stdout",
     "output_type": "stream",
     "text": [
      "[7.58482099e+02 1.00000000e-10 1.00000000e-10 1.00000000e-10\n",
      " 1.00000000e-10 1.00000000e-10 1.00000000e-10 1.00000000e-10\n",
      " 1.00000000e-10 1.00000000e-10 1.00000000e-10]\n",
      "[1.0e-10 1.5e+07 1.0e-10 1.0e-10 1.0e-10 1.0e-10 1.0e-10 1.0e-10 1.0e-10\n",
      " 1.0e-10 1.0e-10 1.0e-10 1.0e-10 1.0e-10 1.0e-10 1.0e-10 1.0e-10 1.0e-10\n",
      " 1.0e-10 1.0e-10]\n",
      "2.41432350534664\n"
     ]
    }
   ],
   "source": [
    "\n",
    "k = eb.Target.get_ions(\"K\", 1e-8 * 1.5e15, kT=80)\n",
    "ne = eb.Target.get_gas(\"Ne\", .1e-11, 5e-3)\n",
    "\n",
    "# k = eb.Target.get_ions(\"K\", .1*1e-8 * 1.5e15, kT_per_q=80)\n",
    "# ne = eb.Target.get_gas(\"Ne\", 100*.1e-11, 1e-4)\n",
    "\n",
    "\n",
    "# k = eb.Target.get_gas(\"Ar\", .5e-10, 1e-4)\n",
    "dev = eb.Device.get(1, 8000, 1e-4, 0.8, 1300, 2, 0.005, n_grid=500,)\n",
    "print(ne.n)\n",
    "print(k.n)\n",
    "# res = eb.advanced_simulation(dev, k,60, rates=True)\n",
    "\n",
    "print(eb.BackgroundGas.get(\"Ar\", 1e-10).n0/1e12)"
   ]
  },
  {
   "cell_type": "code",
   "execution_count": 7,
   "metadata": {},
   "outputs": [
    {
     "name": "stderr",
     "output_type": "stream",
     "text": [
      "[2020-07-07 12:33:03,020][INFO][ebisim.simulation._advanced] Preparing advanced simulation.\n",
      "[2020-07-07 12:33:03,022][INFO][ebisim.simulation._advanced] device = Device.get(1.0, 8000.0, 0.0001, 0.8, 1300.0, 2.0, 0.005, 1651.1229895140636, 3183.098861837907, 95.97432887405196, 500).\n",
      "[2020-07-07 12:33:03,023][INFO][ebisim.simulation._advanced] targets = [Target(Element: Potassium (K, Z = 19, A = 39)), Target(Element: Neon (Ne, Z = 10, A = 20))].\n",
      "[2020-07-07 12:33:03,023][INFO][ebisim.simulation._advanced] t_max = 1.\n",
      "[2020-07-07 12:33:03,024][INFO][ebisim.simulation._advanced] bg_gases = None.\n",
      "[2020-07-07 12:33:03,024][INFO][ebisim.simulation._advanced] options = ModelOptions(EI=True, RR=True, CX=True, DR=False, SPITZER_HEATING=True, COLLISIONAL_THERMALISATION=True, ESCAPE_AXIAL=True, ESCAPE_RADIAL=True, RECOMPUTE_CROSS_SECTIONS=False, RADIAL_DYNAMICS=True, IONISATION_HEATING=True).\n",
      "[2020-07-07 12:33:03,025][INFO][ebisim.simulation._advanced] rates = True.\n",
      "[2020-07-07 12:33:03,025][INFO][ebisim.simulation._advanced] solver_kwargs = {'dense_output': True, 'max_step': 1}.\n",
      "[2020-07-07 12:33:03,026][INFO][ebisim.simulation._advanced] verbose = True.\n",
      "[2020-07-07 12:33:03,878][DEBUG][ebisim.simulation._advanced] Initialising AdvancedModel object.\n",
      "[2020-07-07 12:33:05,264][DEBUG][ebisim.simulation._advanced] Wrapping rhs in progress meter.\n",
      "[2020-07-07 12:33:05,264][DEBUG][ebisim.simulation._advanced] Starting integration.\n",
      "/home/hpahl/Repos/EBISSimulation/ebisim/simulation/_advanced.py:588: RuntimeWarning: divide by zero encountered in ion_coll_rate\n",
      "  q_T, self.q\n",
      "/home/hpahl/Repos/EBISSimulation/ebisim/simulation/_advanced.py:588: RuntimeWarning: invalid value encountered in ion_coll_rate\n",
      "  q_T, self.q\n"
     ]
    },
    {
     "name": "stdout",
     "output_type": "stream",
     "text": [
      "\n"
     ]
    },
    {
     "name": "stderr",
     "output_type": "stream",
     "text": [
      "/home/hpahl/Repos/EBISSimulation/ebisim/simulation/_advanced.py:671: RuntimeWarning: invalid value encountered in collisional_escape_rate\n",
      "  R_ax_co      = plasma.collisional_escape_rate(ri, w_ax) * n\n",
      "/home/hpahl/Repos/EBISSimulation/ebisim/simulation/_advanced.py:688: RuntimeWarning: invalid value encountered in collisional_escape_rate\n",
      "  R_ra_co      = plasma.collisional_escape_rate(ri, w_ra) * n\n",
      "/home/hpahl/Repos/EBISSimulation/ebisim/simulation/_advanced.py:588: RuntimeWarning: divide by zero encountered in ion_coll_rate\n",
      "  q_T, self.q\n",
      "/home/hpahl/Repos/EBISSimulation/ebisim/simulation/_advanced.py:588: RuntimeWarning: invalid value encountered in ion_coll_rate\n",
      "  q_T, self.q\n"
     ]
    },
    {
     "name": "stdout",
     "output_type": "stream",
     "text": [
      " Integration: 5100 calls, t = 2.0031e-04 s"
     ]
    },
    {
     "name": "stderr",
     "output_type": "stream",
     "text": [
      "/home/hpahl/Repos/EBISSimulation/ebisim/simulation/_advanced.py:616: RuntimeWarning: divide by zero encountered in true_divide\n",
      "  dkT[1:]  += R_ei[:-1] / n_r[1:] * (kT[:-1] - kT[1:])\n",
      "/home/hpahl/Repos/EBISSimulation/ebisim/simulation/_advanced.py:617: RuntimeWarning: divide by zero encountered in true_divide\n",
      "  dkT[1:]  += R_ei[:-1] / n_r[1:] * iheat[:-1]\n",
      "/home/hpahl/Repos/EBISSimulation/ebisim/simulation/_advanced.py:617: RuntimeWarning: invalid value encountered in add\n",
      "  dkT[1:]  += R_ei[:-1] / n_r[1:] * iheat[:-1]\n",
      "/home/hpahl/Repos/EBISSimulation/ebisim/simulation/_advanced.py:625: RuntimeWarning: divide by zero encountered in true_divide\n",
      "  dkT[:-1] += R_rr[1:] / n_r[:-1] * (kT[1:] - kT[:-1])\n",
      "/home/hpahl/Repos/EBISSimulation/ebisim/simulation/_advanced.py:626: RuntimeWarning: divide by zero encountered in true_divide\n",
      "  dkT[:-1]  -= R_rr[1:] / n_r[:-1] * iheat[1:]\n",
      "/home/hpahl/Repos/EBISSimulation/ebisim/simulation/_advanced.py:648: RuntimeWarning: divide by zero encountered in true_divide\n",
      "  dkT[:-1] += R_cx[1:] / n_r[:-1] * (kT[1:] - kT[:-1])\n",
      "/home/hpahl/Repos/EBISSimulation/ebisim/simulation/_advanced.py:649: RuntimeWarning: divide by zero encountered in true_divide\n",
      "  dkT[:-1]  -= R_cx[1:] / n_r[:-1] * iheat[1:]\n",
      "/home/hpahl/Repos/EBISSimulation/ebisim/simulation/_advanced.py:680: RuntimeWarning: invalid value encountered in true_divide\n",
      "  dkT      -= R_ax_co / n_r * w_ax * kT + R_ax_rt / n_r * (tfact_ax - 1) * kT\n",
      "/home/hpahl/Repos/EBISSimulation/ebisim/simulation/_advanced.py:697: RuntimeWarning: invalid value encountered in true_divide\n",
      "  dkT      -= R_ra_co / n_r * w_ra * kT + R_ra_rt / n_r * (tfact_ra - 1) * kT\n"
     ]
    },
    {
     "name": "stdout",
     "output_type": "stream",
     "text": [
      " Integration: 5200 calls, t = 2.5907e-04 s"
     ]
    },
    {
     "name": "stderr",
     "output_type": "stream",
     "text": [
      "/home/hpahl/Repos/EBISSimulation/ebisim/simulation/_advanced.py:616: RuntimeWarning: invalid value encountered in true_divide\n",
      "  dkT[1:]  += R_ei[:-1] / n_r[1:] * (kT[:-1] - kT[1:])\n",
      "/home/hpahl/Repos/EBISSimulation/ebisim/simulation/_advanced.py:617: RuntimeWarning: invalid value encountered in true_divide\n",
      "  dkT[1:]  += R_ei[:-1] / n_r[1:] * iheat[:-1]\n",
      "/home/hpahl/Repos/EBISSimulation/ebisim/simulation/_advanced.py:625: RuntimeWarning: invalid value encountered in true_divide\n",
      "  dkT[:-1] += R_rr[1:] / n_r[:-1] * (kT[1:] - kT[:-1])\n",
      "/home/hpahl/Repos/EBISSimulation/ebisim/simulation/_advanced.py:626: RuntimeWarning: invalid value encountered in true_divide\n",
      "  dkT[:-1]  -= R_rr[1:] / n_r[:-1] * iheat[1:]\n",
      "/home/hpahl/Repos/EBISSimulation/ebisim/simulation/_advanced.py:648: RuntimeWarning: invalid value encountered in true_divide\n",
      "  dkT[:-1] += R_cx[1:] / n_r[:-1] * (kT[1:] - kT[:-1])\n",
      "/home/hpahl/Repos/EBISSimulation/ebisim/simulation/_advanced.py:649: RuntimeWarning: invalid value encountered in true_divide\n",
      "  dkT[:-1]  -= R_cx[1:] / n_r[:-1] * iheat[1:]\n"
     ]
    },
    {
     "name": "stdout",
     "output_type": "stream",
     "text": [
      " Integration: 11600 calls, t = 3.5606e-01 s"
     ]
    },
    {
     "name": "stderr",
     "output_type": "stream",
     "text": [
      "[2020-07-07 12:33:36,701][DEBUG][ebisim.simulation._advanced] Assembling rate arrays.\n"
     ]
    },
    {
     "name": "stdout",
     "output_type": "stream",
     "text": [
      "Integration finished: 11702 calls                    \n",
      "The solver successfully reached the end of the integration interval.\n",
      "Calls: 11702 of which ~2833 normal (24.21%) and ~8866 for jacobian approximation (75.76%)\n"
     ]
    },
    {
     "name": "stderr",
     "output_type": "stream",
     "text": [
      "/home/hpahl/Repos/EBISSimulation/ebisim/simulation/_advanced.py:588: RuntimeWarning: divide by zero encountered in ion_coll_rate\n",
      "  q_T, self.q\n",
      "/home/hpahl/Repos/EBISSimulation/ebisim/simulation/_advanced.py:588: RuntimeWarning: invalid value encountered in ion_coll_rate\n",
      "  q_T, self.q\n",
      "/home/hpahl/Repos/EBISSimulation/ebisim/simulation/_advanced.py:671: RuntimeWarning: invalid value encountered in collisional_escape_rate\n",
      "  R_ax_co      = plasma.collisional_escape_rate(ri, w_ax) * n\n",
      "/home/hpahl/Repos/EBISSimulation/ebisim/simulation/_advanced.py:688: RuntimeWarning: invalid value encountered in collisional_escape_rate\n",
      "  R_ra_co      = plasma.collisional_escape_rate(ri, w_ra) * n\n"
     ]
    },
    {
     "name": "stdout",
     "output_type": "stream",
     "text": [
      " Rates: 1 / 279"
     ]
    },
    {
     "name": "stderr",
     "output_type": "stream",
     "text": [
      "/home/hpahl/Repos/EBISSimulation/ebisim/simulation/_advanced.py:588: RuntimeWarning: divide by zero encountered in ion_coll_rate\n",
      "  q_T, self.q\n",
      "/home/hpahl/Repos/EBISSimulation/ebisim/simulation/_advanced.py:588: RuntimeWarning: invalid value encountered in ion_coll_rate\n",
      "  q_T, self.q\n",
      "/home/hpahl/Repos/EBISSimulation/ebisim/simulation/_advanced.py:671: RuntimeWarning: invalid value encountered in collisional_escape_rate\n",
      "  R_ax_co      = plasma.collisional_escape_rate(ri, w_ax) * n\n",
      "/home/hpahl/Repos/EBISSimulation/ebisim/simulation/_advanced.py:688: RuntimeWarning: invalid value encountered in collisional_escape_rate\n",
      "  R_ra_co      = plasma.collisional_escape_rate(ri, w_ra) * n\n"
     ]
    },
    {
     "name": "stdout",
     "output_type": "stream",
     "text": [
      " Rates: 201 / 279"
     ]
    },
    {
     "name": "stderr",
     "output_type": "stream",
     "text": [
      "[2020-07-07 12:33:40,772][DEBUG][ebisim.simulation._advanced] Assembling result of target #0.\n",
      "[2020-07-07 12:33:40,773][DEBUG][ebisim.simulation._advanced] Assembling result of target #1.\n",
      "[2020-07-07 12:33:40,774][DEBUG][ebisim.simulation._advanced] Arming compilation of AdvancedModel class.\n"
     ]
    },
    {
     "name": "stdout",
     "output_type": "stream",
     "text": [
      "Rates finished: 279 rates\n",
      "Arming compilation of AdvancedModel class.\n",
      "The next calls to this class and its methods may take a while.\n",
      "The compiled instance lives as long as the python interpreter.\n"
     ]
    }
   ],
   "source": [
    "TMAX = 1\n",
    "T0 = 0.0001\n",
    "kr, nr = eb.advanced_simulation(\n",
    "    dev, [k, ne],TMAX,\n",
    "    options=eb.ModelOptions(RADIAL_DYNAMICS=True),\n",
    "    solver_kwargs={\"dense_output\":True, \"max_step\":1},\n",
    "    rates=True\n",
    ")\n",
    "eb.simulation._advanced.compile_adv_model()\n",
    "# kr2, nr2 = eb.advanced_simulation(\n",
    "#     dev, [k, ne],TMAX,\n",
    "#     options=eb.ModelOptions(RADIAL_DYNAMICS=True),\n",
    "#     solver_kwargs={\"dense_output\":True, \"max_step\":1},\n",
    "#     rates=True\n",
    "# )\n",
    "# np.allclose(kr.res.y, kr2.res.y)"
   ]
  },
  {
   "cell_type": "code",
   "execution_count": null,
   "metadata": {},
   "outputs": [],
   "source": [
    "print(hash(kr.res.y.data.tobytes()))\n",
    "print(nr.res.message)\n",
    "nr.res.nfev, nr.res.njev, 22*nr.res.njev, 22*nr.res.njev/nr.res.nfev\n"
   ]
  },
  {
   "cell_type": "raw",
   "metadata": {},
   "source": [
    "Integration finished: 18674 calls\n",
    "-2124360153819634663\n",
    "The solver successfully reached the end of the integration interval.\n",
    "\n",
    "(7476, 179, 3938, 0.5267522739432852)"
   ]
  },
  {
   "cell_type": "code",
   "execution_count": null,
   "metadata": {},
   "outputs": [],
   "source": [
    "fig = nr.plot_rate(eb.Rate.AX_RT)\n",
    "nr2.plot_rate(eb.Rate.AX_RT, ax=fig.gca())\n",
    "nr.plot_rate(eb.Rate.AX_CO)\n",
    "nr2.plot_rate(eb.Rate.AX_CO)\n",
    "\n",
    "kr.plot_rate(eb.Rate.AX_RT)\n",
    "kr2.plot_rate(eb.Rate.AX_RT)\n",
    "\n",
    "_=kr.plot_rate(eb.Rate.AX_CO)\n",
    "_=kr2.plot_rate(eb.Rate.AX_CO)"
   ]
  },
  {
   "cell_type": "code",
   "execution_count": null,
   "metadata": {},
   "outputs": [],
   "source": [
    "fig = kr.plot_charge_states()\n",
    "kr2.plot_charge_states()\n",
    "\n",
    "# kr.plot_energy_density()\n",
    "_=kr.plot_temperature()\n",
    "_=kr2.plot_temperature()\n"
   ]
  },
  {
   "cell_type": "code",
   "execution_count": null,
   "metadata": {},
   "outputs": [],
   "source": [
    "# nr.rates[eb.Rate.E_KIN_MEAN]\n",
    "nr.plot_charge_states()\n",
    "nr.plot_energy_density()\n",
    "_=nr.plot_temperature()\n",
    "nr.plot_rate(eb.Rate.E_KIN_MEAN)\n",
    "nr.plot_rate(eb.Rate.E_KIN_FWHM)\n",
    "_=nr.plot_rate(eb.Rate.SPITZER_HEATING)"
   ]
  },
  {
   "cell_type": "code",
   "execution_count": null,
   "metadata": {},
   "outputs": [],
   "source": [
    "# nr.plot_rate(eb.Rate.RA_RT)\n",
    "# nr.plot_rate(eb.Rate.RA_CO)\n",
    "# kr.plot_rate(eb.Rate.RA_RT)\n",
    "# _=kr.plot_rate(eb.Rate.RA_CO)"
   ]
  },
  {
   "cell_type": "code",
   "execution_count": null,
   "metadata": {},
   "outputs": [],
   "source": [
    "_=kr.plot_rate(eb.Rate.F_EI)"
   ]
  },
  {
   "cell_type": "code",
   "execution_count": null,
   "metadata": {},
   "outputs": [],
   "source": [
    "nr.plot_rate(eb.Rate.TRAPPING_PARAMETER_AXIAL, yscale=\"linear\", )\n",
    "kr.plot_rate(eb.Rate.TRAPPING_PARAMETER_AXIAL, yscale=\"linear\", ylim=(0,20))"
   ]
  },
  {
   "cell_type": "code",
   "execution_count": null,
   "metadata": {},
   "outputs": [],
   "source": [
    "kr.plot_rate(eb.Rate.COLLISION_RATE_SELF, yscale=\"log\")\n",
    "_ = kr.plot_rate(eb.Rate.COLLISION_RATE_TOTAL, yscale=\"log\")"
   ]
  },
  {
   "cell_type": "code",
   "execution_count": null,
   "metadata": {},
   "outputs": [],
   "source": [
    "nr.plot_rate(eb.Rate.COLLISION_RATE_SELF, yscale=\"log\")\n",
    "_ = nr.plot_rate(eb.Rate.COLLISION_RATE_TOTAL, yscale=\"log\")"
   ]
  },
  {
   "cell_type": "code",
   "execution_count": null,
   "metadata": {},
   "outputs": [],
   "source": [
    "kr.plot_radial_distribution_at_time(0.001)\n",
    "kr.plot_radial_distribution_at_time(0.01)\n",
    "kr.plot_radial_distribution_at_time(0.1)\n",
    "kr.plot_radial_distribution_at_time(1.0)\n",
    "kr.plot_radial_distribution_at_time(10.0)\n"
   ]
  },
  {
   "cell_type": "code",
   "execution_count": null,
   "metadata": {},
   "outputs": [],
   "source": [
    "nr.plot_rate(eb.Rate.F_EI)\n",
    "# nr.plot_radial_distribution_at_time(0.001)\n",
    "nr.plot_radial_distribution_at_time(0.01)\n",
    "nr.plot_radial_distribution_at_time(0.1)\n",
    "nr.plot_radial_distribution_at_time(1.0)\n",
    "nr.plot_radial_distribution_at_time(10.0)"
   ]
  },
  {
   "cell_type": "code",
   "execution_count": null,
   "metadata": {},
   "outputs": [],
   "source": []
  },
  {
   "cell_type": "code",
   "execution_count": null,
   "metadata": {},
   "outputs": [],
   "source": []
  }
 ],
 "metadata": {
  "kernelspec": {
   "display_name": "Python 3",
   "language": "python",
   "name": "python3"
  },
  "language_info": {
   "codemirror_mode": {
    "name": "ipython",
    "version": 3
   },
   "file_extension": ".py",
   "mimetype": "text/x-python",
   "name": "python",
   "nbconvert_exporter": "python",
   "pygments_lexer": "ipython3",
   "version": "3.7.4"
  }
 },
 "nbformat": 4,
 "nbformat_minor": 4
}
